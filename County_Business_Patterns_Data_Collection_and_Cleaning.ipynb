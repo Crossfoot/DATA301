{
  "nbformat": 4,
  "nbformat_minor": 0,
  "metadata": {
    "colab": {
      "name": "County Business Patterns: Data Collection and Cleaning",
      "provenance": [],
      "collapsed_sections": []
    },
    "kernelspec": {
      "name": "python3",
      "display_name": "Python 3"
    }
  },
  "cells": [
    {
      "cell_type": "code",
      "metadata": {
        "id": "Jk4mrS9yu_gS"
      },
      "source": [
        "import pandas as pd\n",
        "import requests\n",
        "from sklearn import preprocessing"
      ],
      "execution_count": 2,
      "outputs": []
    },
    {
      "cell_type": "code",
      "metadata": {
        "id": "3IoMFbs82jyi"
      },
      "source": [
        "cleaned = []\n",
        "for county_code in [\"081\", \"037\", \"079\"]:\n",
        "  df_all = []\n",
        "  for i in range(1998, 2019):\n",
        "    if i in range(1998, 2003):\n",
        "      response = requests.get(\"https://api.census.gov/data/\" + str(i) + \"/cbp?get=NAICS1997,NAICS1997_TTL,EMP,PAYANN&for=county:\" + county_code + \"&in=state:06&key=451427d6735c3eabbe226567a036b078171fd967\")\n",
        "    elif i in range(2003, 2008):\n",
        "      response = requests.get(\"https://api.census.gov/data/\" + str(i) + \"/cbp?get=NAICS2002,NAICS2002_TTL,EMP,PAYANN&for=county:\" + county_code + \"&in=state:06&key=451427d6735c3eabbe226567a036b078171fd967\")\n",
        "    elif i in range(2008, 2012):\n",
        "      response = requests.get(\"https://api.census.gov/data/\" + str(i) + \"/cbp?get=NAICS2007,NAICS2007_TTL,EMP,PAYANN&for=county:\" + county_code + \"&in=state:06&key=451427d6735c3eabbe226567a036b078171fd967\")\n",
        "    elif i in range(2012, 2017):\n",
        "      response = requests.get(\"https://api.census.gov/data/\" + str(i) + \"/cbp?get=NAICS2012,NAICS2012_TTL,EMP,PAYANN&for=county:\" + county_code + \"&in=state:06&key=451427d6735c3eabbe226567a036b078171fd967\")\n",
        "    elif i in range(2017, 2019):\n",
        "      response = requests.get(\"https://api.census.gov/data/\" + str(i) + \"/cbp?get=NAICS2017,NAICS2017_LABEL,EMP,PAYANN&for=county:\" + county_code + \"&in=state:06&key=451427d6735c3eabbe226567a036b078171fd967\")\n",
        "    df = pd.DataFrame(response.json()[1:], columns=[\"Code\", \"Title\", \"EMP\", \"PAYANN\", \"state\", \"county\"])\n",
        "    df[\"Year\"] = i\n",
        "    df[\"state\"] = df[\"state\"].astype(int)\n",
        "    df_all.append(df)\n",
        "  concatted_counties = pd.concat(df_all, ignore_index=True)\n",
        "  concatted_counties[\"Code\"] = concatted_counties[\"Code\"].map(lambda x : x.strip())\n",
        "  cleaned.append(concatted_counties)"
      ],
      "execution_count": 71,
      "outputs": []
    }
  ]
}